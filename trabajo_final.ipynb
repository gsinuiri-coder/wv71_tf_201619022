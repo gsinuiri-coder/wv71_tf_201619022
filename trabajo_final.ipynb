{
  "nbformat": 4,
  "nbformat_minor": 0,
  "metadata": {
    "colab": {
      "name": "trabajo_final.ipynb",
      "provenance": [],
      "collapsed_sections": []
    },
    "kernelspec": {
      "display_name": "Python 3",
      "name": "python3"
    },
    "language_info": {
      "name": "python"
    }
  },
  "cells": [
    {
      "cell_type": "markdown",
      "metadata": {
        "id": "rYUJeiYTWBPu"
      },
      "source": [
        "# **Trabajo Final**"
      ]
    },
    {
      "cell_type": "code",
      "metadata": {
        "id": "iEgbtloL2qKQ"
      },
      "source": [
        "import numpy as np\n",
        "import numpy.random as npr\n",
        "import matplotlib.pyplot as plt"
      ],
      "execution_count": 6,
      "outputs": []
    },
    {
      "cell_type": "markdown",
      "metadata": {
        "id": "phaZ-LRJEHWm"
      },
      "source": [
        "## **Hito 1 TF**"
      ]
    },
    {
      "cell_type": "markdown",
      "metadata": {
        "id": "hos8yOWM3JGA"
      },
      "source": [
        "*   **Crear grafo para la ciudad de 1000x1000 cuadras**\n",
        "\n",
        "\n"
      ]
    },
    {
      "cell_type": "code",
      "metadata": {
        "id": "6XPN-ywy3HAH"
      },
      "source": [
        "def generateGridGraph(size):\n",
        "  n = size**2\n",
        "  G = [ [] for _ in range(n) ]\n",
        "  for i, u in enumerate(G):\n",
        "    if i - size >= 0 : u.append(i - size)\n",
        "    if i - 1 >= 0 : u.append(i - 1)\n",
        "    if i + 1  < n : u.append(i + 1)\n",
        "    if i + size  < n : u.append(i + size)\n",
        "  return G"
      ],
      "execution_count": 44,
      "outputs": []
    },
    {
      "cell_type": "code",
      "metadata": {
        "id": "ms2xuW0b4PEY"
      },
      "source": [
        "size = 1000\n",
        "G = generateGridGraph(size)"
      ],
      "execution_count": 45,
      "outputs": []
    },
    {
      "cell_type": "markdown",
      "metadata": {
        "id": "kMtVI_LOD4p-"
      },
      "source": [
        "\n",
        "\n",
        "*   **Agregar la información de dataset de alamcenes.csv**\n",
        "*   **Agregar la información de dataset de puntos_entrega.csv**\n",
        "\n"
      ]
    },
    {
      "cell_type": "code",
      "metadata": {
        "id": "CxddP1WyD4SX"
      },
      "source": [
        "import random\n",
        "\n",
        "points = []\n",
        "for i in range(size):\n",
        "  for j in range(size):\n",
        "    points.append((i, j))\n",
        "\n",
        "random.shuffle(points)\n",
        "\n",
        "cantidad_almacenes = npr.randint(50, 100)\n",
        "cantidad_puntos_entrega = npr.randint(2500, 5000)\n",
        "\n",
        "with open(\"cantidad_almacenes.csv\", 'w') as f:\n",
        "  for i in points[:cantidad_almacenes]:\n",
        "    f.write(str(i[0]) + \",\" + str(i[1]) + \"\\n\")\n",
        "\n",
        "with open(\"cantidad_puntos_entrega.csv\", 'w') as f:\n",
        "  for i in points[cantidad_almacenes:cantidad_almacenes + cantidad_puntos_entrega]:\n",
        "    f.write(str(i[0]) + \",\" + str(i[1]) + \"\\n\")"
      ],
      "execution_count": 48,
      "outputs": []
    }
  ]
}